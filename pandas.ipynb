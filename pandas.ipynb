{
 "cells": [
  {
   "cell_type": "code",
   "execution_count": null,
   "id": "73b65fe7",
   "metadata": {},
   "outputs": [],
   "source": [
    "import pandas as pd "
   ]
  },
  {
   "cell_type": "code",
   "execution_count": null,
   "id": "43c760f8",
   "metadata": {},
   "outputs": [
    {
     "data": {
      "text/plain": [
       "number1    1\n",
       "number2    2\n",
       "number3    3\n",
       "number4    4\n",
       "number5    5\n",
       "Name: list, dtype: int64"
      ]
     },
     "execution_count": 6,
     "metadata": {},
     "output_type": "execute_result"
    }
   ],
   "source": [
    "# Series \n",
    "import pandas as pd \n",
    "data = pd.Series([1,2,3,4,5],index= [\"number1\",\"number2\",\"number3\",\"number4\",\"number5\"],name=\"list\")\n",
    "data "
   ]
  },
  {
   "cell_type": "code",
   "execution_count": 10,
   "id": "33744f78",
   "metadata": {},
   "outputs": [
    {
     "name": "stdout",
     "output_type": "stream",
     "text": [
      "<class 'pandas.core.series.Series'>\n",
      "\n",
      "a    1\n",
      "b    2\n",
      "c    3\n",
      "dtype: int64\n"
     ]
    }
   ],
   "source": [
    "# Type of the Series. \n",
    "print(type(data))\n",
    "print()\n",
    "series_dic = pd.Series({'a':1,'b':2,'c':3})\n",
    "print(series_dic)"
   ]
  },
  {
   "cell_type": "code",
   "execution_count": null,
   "id": "82582ba8",
   "metadata": {},
   "outputs": [],
   "source": []
  }
 ],
 "metadata": {
  "kernelspec": {
   "display_name": "Python 3",
   "language": "python",
   "name": "python3"
  },
  "language_info": {
   "codemirror_mode": {
    "name": "ipython",
    "version": 3
   },
   "file_extension": ".py",
   "mimetype": "text/x-python",
   "name": "python",
   "nbconvert_exporter": "python",
   "pygments_lexer": "ipython3",
   "version": "3.12.0"
  }
 },
 "nbformat": 4,
 "nbformat_minor": 5
}
